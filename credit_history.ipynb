{
 "cells": [
  {
   "cell_type": "code",
   "execution_count": 1,
   "metadata": {},
   "outputs": [],
   "source": [
    "import pandas as pd"
   ]
  },
  {
   "cell_type": "code",
   "execution_count": 3,
   "metadata": {},
   "outputs": [],
   "source": [
    "data=pd.read_csv(\"Credit-History.csv\")"
   ]
  },
  {
   "cell_type": "code",
   "execution_count": 5,
   "metadata": {},
   "outputs": [
    {
     "data": {
      "text/plain": [
       "(981, 14)"
      ]
     },
     "execution_count": 5,
     "metadata": {},
     "output_type": "execute_result"
    }
   ],
   "source": [
    "data.shape"
   ]
  },
  {
   "cell_type": "code",
   "execution_count": 6,
   "metadata": {},
   "outputs": [
    {
     "name": "stdout",
     "output_type": "stream",
     "text": [
      "<class 'pandas.core.frame.DataFrame'>\n",
      "RangeIndex: 981 entries, 0 to 980\n",
      "Data columns (total 14 columns):\n",
      " #   Column             Non-Null Count  Dtype  \n",
      "---  ------             --------------  -----  \n",
      " 0   Unnamed: 0         981 non-null    int64  \n",
      " 1   Loan_ID            981 non-null    object \n",
      " 2   Gender             957 non-null    object \n",
      " 3   Married            978 non-null    object \n",
      " 4   Dependents         956 non-null    object \n",
      " 5   Education          981 non-null    object \n",
      " 6   Self_Employed      926 non-null    object \n",
      " 7   ApplicantIncome    981 non-null    int64  \n",
      " 8   CoapplicantIncome  981 non-null    float64\n",
      " 9   LoanAmount         954 non-null    float64\n",
      " 10  Loan_Amount_Term   961 non-null    float64\n",
      " 11  Credit_History     902 non-null    float64\n",
      " 12  Property_Area      981 non-null    object \n",
      " 13  Loan_Status        614 non-null    object \n",
      "dtypes: float64(4), int64(2), object(8)\n",
      "memory usage: 107.4+ KB\n"
     ]
    }
   ],
   "source": [
    "data.info()"
   ]
  },
  {
   "cell_type": "code",
   "execution_count": null,
   "metadata": {},
   "outputs": [],
   "source": []
  }
 ],
 "metadata": {
  "kernelspec": {
   "display_name": "Python 3",
   "language": "python",
   "name": "python3"
  },
  "language_info": {
   "codemirror_mode": {
    "name": "ipython",
    "version": 3
   },
   "file_extension": ".py",
   "mimetype": "text/x-python",
   "name": "python",
   "nbconvert_exporter": "python",
   "pygments_lexer": "ipython3",
   "version": "3.8.5"
  }
 },
 "nbformat": 4,
 "nbformat_minor": 4
}
